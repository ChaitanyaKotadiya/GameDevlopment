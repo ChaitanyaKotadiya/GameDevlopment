{
 "cells": [
  {
   "cell_type": "markdown",
   "id": "85d0a724",
   "metadata": {},
   "source": [
    "# Q.42. Write a python program to calculate multiplication of two random float numbers"
   ]
  },
  {
   "cell_type": "code",
   "execution_count": 2,
   "id": "1b8412d6",
   "metadata": {},
   "outputs": [
    {
     "data": {
      "text/plain": [
       "0.2343729461350695"
      ]
     },
     "execution_count": 2,
     "metadata": {},
     "output_type": "execute_result"
    }
   ],
   "source": [
    "import random\n",
    "\n",
    "def multiply_random_floats():\n",
    "    # Generate two random float numbers between 0 and 1\n",
    "    num1 = random.random()\n",
    "    num2 = random.random()\n",
    "\n",
    "    # Calculate the product\n",
    "    result = num1 * num2\n",
    "\n",
    "    return result\n",
    "multiply_random_floats()"
   ]
  },
  {
   "cell_type": "markdown",
   "id": "226f33a7",
   "metadata": {},
   "source": [
    "# Q.43. Create a python program to demonstrate rolling a dice in such a way that every time one get the same number"
   ]
  },
  {
   "cell_type": "code",
   "execution_count": 2,
   "id": "3613f8f1",
   "metadata": {},
   "outputs": [
    {
     "name": "stdout",
     "output_type": "stream",
     "text": [
      "Randomly selecting same number of a dice\n",
      "4\n",
      "4\n",
      "4\n",
      "4\n",
      "4\n"
     ]
    }
   ],
   "source": [
    "import random\n",
    "\n",
    "dice = [1, 2, 3, 4, 5, 6]\n",
    "print(\"Randomly selecting same number of a dice\")\n",
    "for i in range(5):\n",
    "    random.seed(25)\n",
    "    print(random.choice(dice))"
   ]
  },
  {
   "cell_type": "markdown",
   "id": "4d932290",
   "metadata": {},
   "source": [
    "# Q. 44. \"Write a python program to generate a series of random integers between 1 and 6 and count how often each appears. See how close each approaches to 1/6 of the total.\""
   ]
  },
  {
   "cell_type": "code",
   "execution_count": 4,
   "id": "9ad02489",
   "metadata": {},
   "outputs": [
    {
     "name": "stdout",
     "output_type": "stream",
     "text": [
      " 1/6 =  0.166667\n",
      " Roll \\ tCount \\ tProbability \\ tDifference \n",
      "1\t166461\t0.166461\t-0.12\n",
      "2\t166429\t0.166429\t-0.14\n",
      "3\t166520\t0.16652\t-0.09\n",
      "4\t166467\t0.166467\t-0.12\n",
      "5\t166994\t0.166994\t0.2\n",
      "6\t167129\t0.167129\t0.28\n"
     ]
    }
   ],
   "source": [
    "# Roll a 6- sided dice and see how fair it is.\n",
    "from random import randint\n",
    "NUMROLLS = 1000000\n",
    "def rollDice ( ):\n",
    "# Create an list of 6 zeros :\n",
    "    counts = [0] * 6\n",
    "    for i in range ( NUMROLLS ):\n",
    "# Record each roll in counts list :\n",
    "        roll = randint (1 , 6)\n",
    "        counts [ roll -1] += 1\n",
    "    return counts\n",
    "def printResults ( counts ) :\n",
    "# Compute and print expected probability :\n",
    "    oneSixth = 1/6\n",
    "    print (\" 1/6 = \" , round ( oneSixth , 6) )\n",
    "# Print header line :\n",
    "    print ( \" Roll \\ tCount \\ tProbability \\ tDifference \" )\n",
    "# See how close the actual values were to the\n",
    "# expected probability of 1/6.\n",
    "    for i in range ( 1, 7 ):\n",
    "        count = counts [i -1]\n",
    "        prob = count / NUMROLLS\n",
    "        diff = (( prob - oneSixth ) / oneSixth ) * 100.0\n",
    "        print (i , count , prob , round ( diff , 2) , sep =\"\\t\" )\n",
    "def main () :\n",
    "    counts = rollDice ()\n",
    "    printResults ( counts )\n",
    "main ()"
   ]
  },
  {
   "cell_type": "markdown",
   "id": "0394d60a",
   "metadata": {},
   "source": [
    "# Q. 45. Write a python program to find how many times do you have to flip a coin to get k heads in a row?"
   ]
  },
  {
   "cell_type": "code",
   "execution_count": 4,
   "id": "78d65fc1",
   "metadata": {},
   "outputs": [
    {
     "name": "stdout",
     "output_type": "stream",
     "text": [
      "To get 3 consecutive heads in a row, you need to flip the coin 3 times.\n"
     ]
    }
   ],
   "source": [
    "import random\n",
    "\n",
    "def flip_coin():\n",
    "    return random.choice(['H', 'T'])  # 'H' for Heads, 'T' for Tails\n",
    "\n",
    "def find_k_heads_in_row(k):\n",
    "    flips_count = 0\n",
    "    consecutive_heads = 0\n",
    "\n",
    "    while consecutive_heads < k:\n",
    "        flip_result = flip_coin()\n",
    "        flips_count += 1\n",
    "\n",
    "        if flip_result == 'H':\n",
    "            consecutive_heads += 1\n",
    "        else:\n",
    "            consecutive_heads = 0\n",
    "\n",
    "    return flips_count\n",
    "\n",
    "\n",
    "k_heads = 3  # You can adjust the value of k as desired.\n",
    "\n",
    "flips_needed = find_k_heads_in_row(k_heads)\n",
    "print(f\"To get {k_heads} consecutive heads in a row, you need to flip the coin {flips_needed} times.\")\n"
   ]
  },
  {
   "cell_type": "markdown",
   "id": "f2c58e39",
   "metadata": {},
   "source": [
    "# Q. 46. Implement a guessing game program by generating a random integer between 1 and 99. Accept guesses from\n",
    " the user until he or she guesses the number or exceeds the allowed\n",
    " number of guesses. It should be possible to guess the number in\n",
    " no more than 7 guesses. \n",
    " The program should behave as follows:\n",
    " 1 If the user guesses the number, congratulate him or her and\n",
    " stop play.\n",
    " 2 If an illegal guess is entered, say so, but count it as one guess.\n",
    " 3 If the user exceeds 7 guesses, say so and stop play.\n",
    " 4 If the guess is too low/high, say so and allow another guess."
   ]
  },
  {
   "cell_type": "code",
   "execution_count": 6,
   "id": "dde21403",
   "metadata": {},
   "outputs": [
    {
     "name": "stdout",
     "output_type": "stream",
     "text": [
      "Welcome to the guessing game!\n",
      "You have 7 guesses to find the number.\n",
      "Enter your guess (between 1 and 99): 56\n",
      "Too high! Try again.\n",
      "Enter your guess (between 1 and 99): 23\n",
      "Too low! Try again.\n",
      "Enter your guess (between 1 and 99): 45\n",
      "Too high! Try again.\n",
      "Enter your guess (between 1 and 99): 34\n",
      "Too low! Try again.\n",
      "Enter your guess (between 1 and 99): 40\n",
      "Too high! Try again.\n",
      "Enter your guess (between 1 and 99): 38\n",
      "Too high! Try again.\n",
      "Enter your guess (between 1 and 99): 37\n",
      "Congratulations! You guessed the number (37) correctly in 7 guesses!\n",
      "Sorry, you have exceeded the maximum number of guesses (7). The number was 37.\n"
     ]
    }
   ],
   "source": [
    "import random\n",
    "\n",
    "def generate_random_number():\n",
    "    return random.randint(1, 99)\n",
    "\n",
    "def get_user_guess():\n",
    "    while True:\n",
    "        try:\n",
    "            guess = int(input(\"Enter your guess (between 1 and 99): \"))\n",
    "            return guess\n",
    "        except ValueError:\n",
    "            print(\"Invalid input! Please enter a valid integer.\")\n",
    "\n",
    "def play_guessing_game():\n",
    "    random_number = generate_random_number()\n",
    "    max_guesses = 7\n",
    "    num_guesses = 0\n",
    "\n",
    "    print(\"Welcome to the guessing game!\")\n",
    "    print(\"You have 7 guesses to find the number.\")\n",
    "\n",
    "    while num_guesses < max_guesses:\n",
    "        num_guesses += 1\n",
    "        user_guess = get_user_guess()\n",
    "\n",
    "        if user_guess == random_number:\n",
    "            print(f\"Congratulations! You guessed the number ({random_number}) correctly in {num_guesses} guesses!\")\n",
    "            break\n",
    "        elif user_guess < random_number:\n",
    "            print(\"Too low! Try again.\")\n",
    "        else:\n",
    "            print(\"Too high! Try again.\")\n",
    "\n",
    "    if num_guesses == max_guesses:\n",
    "        print(f\"Sorry, you have exceeded the maximum number of guesses ({max_guesses}). The number was {random_number}.\")\n",
    "\n",
    "\n",
    "play_guessing_game()\n"
   ]
  },
  {
   "cell_type": "markdown",
   "id": "2788a826",
   "metadata": {},
   "source": [
    "# Q. 47. Write a python program to generate a Random Maze."
   ]
  },
  {
   "cell_type": "code",
   "execution_count": 4,
   "id": "48dbdaf0",
   "metadata": {},
   "outputs": [
    {
     "name": "stdout",
     "output_type": "stream",
     "text": [
      "#  #   # # \n",
      "    #      \n",
      "# #     #  \n",
      " #  #      \n",
      "     ##    \n",
      " # #     # \n",
      "  #    #  #\n",
      "#    #     \n",
      "           \n",
      " #       # \n",
      "           \n"
     ]
    }
   ],
   "source": [
    "import random\n",
    "\n",
    "def create_empty_maze(rows, cols):\n",
    "    return [[\"#\" for _ in range(cols)] for _ in range(rows)]\n",
    "\n",
    "def get_neighbours(cell, rows, cols):\n",
    "    row, col = cell\n",
    "    directions = [(-1, 0), (1, 0), (0, -1), (0, 1)]\n",
    "    neighbours = []\n",
    "    \n",
    "    for dr, dc in directions:\n",
    "        nr, nc = row + dr, col + dc\n",
    "        if 0 <= nr < rows and 0 <= nc < cols:\n",
    "            neighbours.append((nr, nc))\n",
    "    \n",
    "    return neighbours\n",
    "\n",
    "def recursive_backtracking(row, col, maze, visited):\n",
    "    visited[row][col] = True\n",
    "    neighbours = get_neighbours((row, col), len(maze), len(maze[0]))\n",
    "    random.shuffle(neighbours)\n",
    "\n",
    "    for nr, nc in neighbours:\n",
    "        if not visited[nr][nc]:\n",
    "            if nr == row:\n",
    "                maze[row][max(col, nc)] = \" \"\n",
    "            else:\n",
    "                maze[max(row, nr)][col] = \" \"\n",
    "            recursive_backtracking(nr, nc, maze, visited)\n",
    "\n",
    "def generate_random_maze(rows, cols):\n",
    "    maze = create_empty_maze(rows, cols)\n",
    "    visited = [[False for _ in range(cols)] for _ in range(rows)]\n",
    "\n",
    "    start_row, start_col = random.randint(0, rows - 1), random.randint(0, cols - 1)\n",
    "    recursive_backtracking(start_row, start_col, maze, visited)\n",
    "    \n",
    "    return maze\n",
    "\n",
    "def print_maze(maze):\n",
    "    for row in maze:\n",
    "        print(\"\".join(row))\n",
    "\n",
    "maze_rows = 11  # You can adjust the number of rows and columns as desired.\n",
    "maze_cols = 11\n",
    "maze = generate_random_maze(maze_rows, maze_cols)\n",
    "print_maze(maze)\n"
   ]
  },
  {
   "cell_type": "markdown",
   "id": "aa624687",
   "metadata": {},
   "source": [
    "# Q. 48. Write a python program to generate a Random sentence using articles, nouns, verbs and adverbs."
   ]
  },
  {
   "cell_type": "code",
   "execution_count": 7,
   "id": "fcb8c3d4",
   "metadata": {},
   "outputs": [
    {
     "name": "stdout",
     "output_type": "stream",
     "text": [
      "The house slept loudly.\n"
     ]
    }
   ],
   "source": [
    "import random\n",
    "\n",
    "def generate_random_sentence():\n",
    "    articles = [\"the\", \"a\", \"an\"]\n",
    "    nouns = [\"dog\", \"cat\", \"bird\", \"house\", \"car\", \"tree\", \"book\", \"computer\", \"flower\"]\n",
    "    verbs = [\"jumped\", \"ran\", \"slept\", \"ate\", \"read\", \"wrote\", \"played\", \"swam\", \"drove\"]\n",
    "    adverbs = [\"quickly\", \"slowly\", \"loudly\", \"quietly\", \"eagerly\", \"carefully\"]\n",
    "\n",
    "    sentence = f\"{random.choice(articles).capitalize()} {random.choice(nouns)} \"\n",
    "    sentence += f\"{random.choice(verbs)} {random.choice(adverbs)}.\"\n",
    "\n",
    "    return sentence\n",
    "\n",
    "\n",
    "random_sentence = generate_random_sentence()\n",
    "print(random_sentence)\n"
   ]
  },
  {
   "cell_type": "markdown",
   "id": "708664bf",
   "metadata": {},
   "source": [
    "# Q. 49. Write a program to create Random Binary Tree Generation"
   ]
  },
  {
   "cell_type": "code",
   "execution_count": 8,
   "id": "5a9b95c5",
   "metadata": {},
   "outputs": [
    {
     "name": "stdout",
     "output_type": "stream",
     "text": [
      "-> 86\n",
      "        -> 81\n",
      "            -> 52\n",
      "    -> 88\n",
      "        -> 43\n"
     ]
    }
   ],
   "source": [
    "import random\n",
    "\n",
    "\n",
    "class Node:\n",
    "\tdef __init__(self, value):\n",
    "\t\tself.value = value\n",
    "\t\tself.left = None\n",
    "\t\tself.right = None\n",
    "\n",
    "def generate_random_binary_tree(size):\n",
    "\tif size == 0:\n",
    "\t\treturn None\n",
    "\n",
    "\t# Choose random sizes for left and right subtrees\n",
    "\tleft_size = random.randint(0, size-1)\n",
    "\tright_size = size - 1 - left_size\n",
    "\n",
    "\t# Generate left and right subtrees recursively\n",
    "\tleft_subtree = generate_random_binary_tree(left_size)\n",
    "\tright_subtree = generate_random_binary_tree(right_size)\n",
    "\n",
    "\t# Create new node with random value\n",
    "\troot = Node(random.randint(0, 100))\n",
    "\n",
    "\t# Assign left and right subtrees to children\n",
    "\troot.left = left_subtree\n",
    "\troot.right = right_subtree\n",
    "\n",
    "\treturn root\n",
    "\n",
    "\n",
    "def print_tree(node, level=0):\n",
    "\tif node is not None:\n",
    "\t\tprint_tree(node.right, level + 1)\n",
    "\t\tprint(\" \" * 4 * level + \"->\", node.value)\n",
    "\t\tprint_tree(node.left, level + 1)\n",
    "\n",
    "\n",
    "tree = generate_random_binary_tree(5)\n",
    "print_tree(tree)\n"
   ]
  },
  {
   "cell_type": "markdown",
   "id": "c453d980",
   "metadata": {},
   "source": [
    "# Q. 50. Write a program to create Random Password Strength Checker."
   ]
  },
  {
   "cell_type": "code",
   "execution_count": 17,
   "id": "44918024",
   "metadata": {},
   "outputs": [
    {
     "name": "stdout",
     "output_type": "stream",
     "text": [
      "Generated Password: @Zz{Jch$_MQf\n",
      "Password Strength:\n",
      "Moderate\n"
     ]
    }
   ],
   "source": [
    "import random\n",
    "\n",
    "def generate_random_password(length=10):\n",
    "    characters = \"abcdefghijklmnopqrstuvwxyzABCDEFGHIJKLMNOPQRSTUVWXYZ0123456789!@#$%^&*()_-+=<>?/[]{},.;:\"\n",
    "    password = \"\"\n",
    "\n",
    "    for _ in range(length):\n",
    "        password += random.choice(characters)\n",
    "\n",
    "    return password\n",
    "\n",
    "def check_password_strength(password):\n",
    "    strength = 0\n",
    "\n",
    "    if any(char.isdigit() for char in password):\n",
    "        strength += 1\n",
    "\n",
    "    if any(char.isupper() for char in password):\n",
    "        strength += 1\n",
    "\n",
    "    if any(char.islower() for char in password):\n",
    "        strength += 1\n",
    "\n",
    "    if any(char in \"!@#$%^&*()_-+=<>?/[]{},.;:\" for char in password):\n",
    "        strength += 1\n",
    "\n",
    "    return strength\n",
    "\n",
    "\n",
    "password_length = 12  # You can adjust the password length as desired.\n",
    "password = generate_random_password(password_length)\n",
    "\n",
    "print(\"Generated Password:\", password)\n",
    "\n",
    "password_strength = check_password_strength(password)\n",
    "\n",
    "print(\"Password Strength:\")\n",
    "print(\"Weak\" if password_strength <= 2 else \"Moderate\" if password_strength == 3 else \"Strong\")\n"
   ]
  },
  {
   "cell_type": "markdown",
   "id": "95e4cc9e",
   "metadata": {},
   "source": [
    "# Q. 51. Write a guess a number game program using random module."
   ]
  },
  {
   "cell_type": "code",
   "execution_count": 18,
   "id": "532cc7e7",
   "metadata": {},
   "outputs": [
    {
     "name": "stdout",
     "output_type": "stream",
     "text": [
      "Welcome to the Guess the Number game!\n",
      "I have chosen a number between 1 and 100. Can you guess it?\n",
      "Enter your guess: 23\n",
      "Too low! Try again.\n",
      "Enter your guess: 45\n",
      "Too low! Try again.\n",
      "Enter your guess: 89\n",
      "Too low! Try again.\n",
      "Enter your guess: 99\n",
      "Too high! Try again.\n",
      "Enter your guess: 93\n",
      "Too high! Try again.\n",
      "Enter your guess: 92\n",
      "Too high! Try again.\n",
      "Enter your guess: 90\n",
      "Congratulations! You guessed the number 90 correctly in 7 attempts!\n"
     ]
    }
   ],
   "source": [
    "import random\n",
    "\n",
    "def guess_the_number():\n",
    "    secret_number = random.randint(1, 100)\n",
    "    attempts = 0\n",
    "\n",
    "    print(\"Welcome to the Guess the Number game!\")\n",
    "    print(\"I have chosen a number between 1 and 100. Can you guess it?\")\n",
    "\n",
    "    while True:\n",
    "        try:\n",
    "            user_guess = int(input(\"Enter your guess: \"))\n",
    "        except ValueError:\n",
    "            print(\"Invalid input! Please enter a valid number.\")\n",
    "            continue\n",
    "\n",
    "        attempts += 1\n",
    "\n",
    "        if user_guess == secret_number:\n",
    "            print(f\"Congratulations! You guessed the number {secret_number} correctly in {attempts} attempts!\")\n",
    "            break\n",
    "        elif user_guess < secret_number:\n",
    "            print(\"Too low! Try again.\")\n",
    "        else:\n",
    "            print(\"Too high! Try again.\")\n",
    "\n",
    "guess_the_number()\n"
   ]
  },
  {
   "cell_type": "markdown",
   "id": "d82dccde",
   "metadata": {},
   "source": [
    "# Q. 52. Write a program to shuffle a given deck of cards randomly."
   ]
  },
  {
   "cell_type": "code",
   "execution_count": 1,
   "id": "fd699eb9",
   "metadata": {},
   "outputs": [
    {
     "name": "stdout",
     "output_type": "stream",
     "text": [
      "Original Deck:\n",
      "2 of Hearts\n",
      "2 of Diamonds\n",
      "2 of Clubs\n",
      "2 of Spades\n",
      "3 of Hearts\n",
      "3 of Diamonds\n",
      "3 of Clubs\n",
      "3 of Spades\n",
      "4 of Hearts\n",
      "4 of Diamonds\n",
      "4 of Clubs\n",
      "4 of Spades\n",
      "5 of Hearts\n",
      "5 of Diamonds\n",
      "5 of Clubs\n",
      "5 of Spades\n",
      "6 of Hearts\n",
      "6 of Diamonds\n",
      "6 of Clubs\n",
      "6 of Spades\n",
      "7 of Hearts\n",
      "7 of Diamonds\n",
      "7 of Clubs\n",
      "7 of Spades\n",
      "8 of Hearts\n",
      "8 of Diamonds\n",
      "8 of Clubs\n",
      "8 of Spades\n",
      "9 of Hearts\n",
      "9 of Diamonds\n",
      "9 of Clubs\n",
      "9 of Spades\n",
      "10 of Hearts\n",
      "10 of Diamonds\n",
      "10 of Clubs\n",
      "10 of Spades\n",
      "Jack of Hearts\n",
      "Jack of Diamonds\n",
      "Jack of Clubs\n",
      "Jack of Spades\n",
      "Queen of Hearts\n",
      "Queen of Diamonds\n",
      "Queen of Clubs\n",
      "Queen of Spades\n",
      "King of Hearts\n",
      "King of Diamonds\n",
      "King of Clubs\n",
      "King of Spades\n",
      "Ace of Hearts\n",
      "Ace of Diamonds\n",
      "Ace of Clubs\n",
      "Ace of Spades\n",
      "\n",
      "Shuffled Deck:\n",
      "9 of Diamonds\n",
      "10 of Clubs\n",
      "4 of Diamonds\n",
      "6 of Diamonds\n",
      "Queen of Spades\n",
      "Ace of Clubs\n",
      "3 of Clubs\n",
      "10 of Diamonds\n",
      "5 of Clubs\n",
      "10 of Spades\n",
      "5 of Spades\n",
      "7 of Diamonds\n",
      "5 of Diamonds\n",
      "Ace of Diamonds\n",
      "9 of Clubs\n",
      "4 of Hearts\n",
      "10 of Hearts\n",
      "6 of Hearts\n",
      "2 of Spades\n",
      "7 of Clubs\n",
      "3 of Spades\n",
      "4 of Spades\n",
      "Queen of Hearts\n",
      "King of Hearts\n",
      "7 of Hearts\n",
      "6 of Clubs\n",
      "8 of Clubs\n",
      "5 of Hearts\n",
      "4 of Clubs\n",
      "7 of Spades\n",
      "9 of Spades\n",
      "King of Clubs\n",
      "Queen of Clubs\n",
      "8 of Hearts\n",
      "Jack of Clubs\n",
      "2 of Diamonds\n",
      "Ace of Spades\n",
      "King of Diamonds\n",
      "2 of Hearts\n",
      "King of Spades\n",
      "Queen of Diamonds\n",
      "8 of Spades\n",
      "8 of Diamonds\n",
      "2 of Clubs\n",
      "3 of Hearts\n",
      "Jack of Hearts\n",
      "Jack of Diamonds\n",
      "6 of Spades\n",
      "3 of Diamonds\n",
      "Jack of Spades\n",
      "Ace of Hearts\n",
      "9 of Hearts\n"
     ]
    }
   ],
   "source": [
    "import random\n",
    "\n",
    "def create_deck():\n",
    "    suits = [\"Hearts\", \"Diamonds\", \"Clubs\", \"Spades\"]\n",
    "    ranks = [\"2\", \"3\", \"4\", \"5\", \"6\", \"7\", \"8\", \"9\", \"10\", \"Jack\", \"Queen\", \"King\", \"Ace\"]\n",
    "\n",
    "    deck = [(rank, suit) for rank in ranks for suit in suits]\n",
    "    return deck\n",
    "\n",
    "def shuffle_deck(deck):\n",
    "    random.shuffle(deck)\n",
    "\n",
    "\n",
    "deck = create_deck()\n",
    "print(\"Original Deck:\")\n",
    "for card in deck:\n",
    "    print(f\"{card[0]} of {card[1]}\")\n",
    "\n",
    "shuffle_deck(deck)\n",
    "\n",
    "print(\"\\nShuffled Deck:\")\n",
    "for card in deck:\n",
    "    print(f\"{card[0]} of {card[1]}\")\n"
   ]
  },
  {
   "cell_type": "markdown",
   "id": "cc918769",
   "metadata": {},
   "source": [
    "# Q. 53. Write a python program to create rock paper scissor game using random module. also provided in notes"
   ]
  },
  {
   "cell_type": "code",
   "execution_count": 2,
   "id": "6b5d3001",
   "metadata": {},
   "outputs": [
    {
     "name": "stdout",
     "output_type": "stream",
     "text": [
      "Welcome to Rock-Paper-Scissors Game!\n",
      "Enter your choice (rock, paper, or scissors): rock\n",
      "\n",
      "You chose: rock\n",
      "Computer chose: rock\n",
      "It's a tie!\n"
     ]
    }
   ],
   "source": [
    "import random\n",
    "\n",
    "def get_user_choice():\n",
    "    while True:\n",
    "        user_choice = input(\"Enter your choice (rock, paper, or scissors): \").lower()\n",
    "        if user_choice in [\"rock\", \"paper\", \"scissors\"]:\n",
    "            return user_choice\n",
    "        else:\n",
    "            print(\"Invalid choice! Please enter rock, paper, or scissors.\")\n",
    "\n",
    "def get_computer_choice():\n",
    "    choices = [\"rock\", \"paper\", \"scissors\"]\n",
    "    return random.choice(choices)\n",
    "\n",
    "def determine_winner(user_choice, computer_choice):\n",
    "    if user_choice == computer_choice:\n",
    "        return \"It's a tie!\"\n",
    "    elif (\n",
    "        (user_choice == \"rock\" and computer_choice == \"scissors\") or\n",
    "        (user_choice == \"paper\" and computer_choice == \"rock\") or\n",
    "        (user_choice == \"scissors\" and computer_choice == \"paper\")\n",
    "    ):\n",
    "        return \"Congratulations! You win!\"\n",
    "    else:\n",
    "        return \"You lose! Better luck next time.\"\n",
    "\n",
    "\n",
    "print(\"Welcome to Rock-Paper-Scissors Game!\")\n",
    "user_choice = get_user_choice()\n",
    "computer_choice = get_computer_choice()\n",
    "\n",
    "print(f\"\\nYou chose: {user_choice}\")\n",
    "print(f\"Computer chose: {computer_choice}\")\n",
    "\n",
    "result = determine_winner(user_choice, computer_choice)\n",
    "print(result)\n"
   ]
  },
  {
   "cell_type": "code",
   "execution_count": null,
   "id": "49abf308",
   "metadata": {},
   "outputs": [],
   "source": []
  }
 ],
 "metadata": {
  "kernelspec": {
   "display_name": "Python 3 (ipykernel)",
   "language": "python",
   "name": "python3"
  },
  "language_info": {
   "codemirror_mode": {
    "name": "ipython",
    "version": 3
   },
   "file_extension": ".py",
   "mimetype": "text/x-python",
   "name": "python",
   "nbconvert_exporter": "python",
   "pygments_lexer": "ipython3",
   "version": "3.11.3"
  }
 },
 "nbformat": 4,
 "nbformat_minor": 5
}
